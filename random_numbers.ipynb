{
 "cells": [
  {
   "cell_type": "code",
   "execution_count": 12,
   "id": "1c4d5acf",
   "metadata": {},
   "outputs": [],
   "source": [
    "#Import random\n",
    "import random"
   ]
  },
  {
   "cell_type": "code",
   "execution_count": 13,
   "id": "f1ed988a",
   "metadata": {},
   "outputs": [
    {
     "data": {
      "text/plain": [
       "-60"
      ]
     },
     "execution_count": 13,
     "metadata": {},
     "output_type": "execute_result"
    }
   ],
   "source": [
    "#Returns an integer between the interval, -90 and up to 89.\n",
    "#Will not generate a floating-point decimal number.\n",
    "random.randint(-90,89)"
   ]
  },
  {
   "cell_type": "code",
   "execution_count": 14,
   "id": "5ae27c8b",
   "metadata": {},
   "outputs": [
    {
     "data": {
      "text/plain": [
       "0.3898912718468156"
      ]
     },
     "execution_count": 14,
     "metadata": {},
     "output_type": "execute_result"
    }
   ],
   "source": [
    "#Returns a floating-point decimal number between 0 and 1.\n",
    "#Will not generate a whole integer.\n",
    "random.random()"
   ]
  },
  {
   "cell_type": "code",
   "execution_count": 17,
   "id": "f80f52bd",
   "metadata": {},
   "outputs": [
    {
     "data": {
      "text/plain": [
       "-54"
      ]
     },
     "execution_count": 17,
     "metadata": {},
     "output_type": "execute_result"
    }
   ],
   "source": [
    "#Returns a whole integer between the interval, -90 and 90 where the step is the difference between each number in the sequence.\n",
    "#Will not generate a floating-point decimal number.\n",
    "random.randrange(-90, 90, 1)"
   ]
  },
  {
   "cell_type": "code",
   "execution_count": null,
   "id": "e9847407",
   "metadata": {},
   "outputs": [],
   "source": [
    "#Returns a floating-point decimal number between the interval, -90 and 90.\n",
    "#Will not generate a whole integer.\n",
    "random.uniform(-90,90)"
   ]
  },
  {
   "cell_type": "code",
   "execution_count": 9,
   "id": "3a31b0ec",
   "metadata": {},
   "outputs": [
    {
     "data": {
      "text/plain": [
       "[11.102260759412713,\n",
       " 60.30923786706841,\n",
       " -65.02198242121639,\n",
       " 39.199658617235364,\n",
       " -79.48367711037523,\n",
       " 17.350882019102464,\n",
       " 79.45837572205137,\n",
       " 56.46983935118411,\n",
       " -9.901142002812637,\n",
       " -88.07085403194704]"
      ]
     },
     "execution_count": 9,
     "metadata": {},
     "output_type": "execute_result"
    }
   ],
   "source": [
    "#Generating latitudes between -90 and 89\n",
    "x = 1\n",
    "latitudes = []\n",
    "while x < 11:\n",
    "    random_lat = random.randint(-90, 89) + random.random()\n",
    "    latitudes.append(random_lat)\n",
    "    x += 1\n",
    "latitudes"
   ]
  },
  {
   "cell_type": "code",
   "execution_count": 18,
   "id": "7112524c",
   "metadata": {},
   "outputs": [],
   "source": [
    "#Import numpy\n",
    "import numpy as np"
   ]
  },
  {
   "cell_type": "code",
   "execution_count": 20,
   "id": "b840b147",
   "metadata": {},
   "outputs": [
    {
     "data": {
      "text/plain": [
       "array([ 71.51427062, -77.86588358, -14.51539003, -21.66106229,\n",
       "        25.44771702,  35.52024299, -71.60514843,  79.69767439,\n",
       "        -5.87626623, -79.16026159,  34.24259014,  38.15999367,\n",
       "       -55.43024193, -31.1430802 , -54.56350648,  33.3330176 ,\n",
       "       -16.51173415,  38.73435663, -68.84487942, -33.35137675,\n",
       "       -26.48025296, -40.03680077, -44.22699267,  73.0230705 ,\n",
       "       -62.24067542,  37.62949347, -28.02846018,  36.30123268,\n",
       "        56.12756042, -30.17887695,  32.59580893, -22.46052342,\n",
       "       -84.73037917,  32.64854917, -54.61693321,  66.99252605,\n",
       "       -76.94642948, -58.05540763,   9.37386773, -14.96661456,\n",
       "       -27.68021834,  81.1397297 ,   4.07592809,  53.66566107,\n",
       "        79.94931956,  37.65374301,  51.39748815,  55.60434831,\n",
       "        12.4482238 ,  13.5470854 ])"
      ]
     },
     "execution_count": 20,
     "metadata": {},
     "output_type": "execute_result"
    }
   ],
   "source": [
    "np.random.uniform(-90.000, 90.000,size=50)"
   ]
  },
  {
   "cell_type": "code",
   "execution_count": 21,
   "id": "40165e65",
   "metadata": {},
   "outputs": [],
   "source": [
    "#import timeit\n",
    "import timeit"
   ]
  },
  {
   "cell_type": "code",
   "execution_count": 23,
   "id": "559d2207",
   "metadata": {},
   "outputs": [
    {
     "name": "stdout",
     "output_type": "stream",
     "text": [
      "15.8 µs ± 459 ns per loop (mean ± std. dev. of 7 runs, 100000 loops each)\n"
     ]
    }
   ],
   "source": [
    "#how long it takes to run using numpty\n",
    "%timeit np.random.uniform(-90.000, 90.000, size=1500)"
   ]
  },
  {
   "cell_type": "code",
   "execution_count": 24,
   "id": "fc675fa5",
   "metadata": {},
   "outputs": [
    {
     "name": "stdout",
     "output_type": "stream",
     "text": [
      "1.44 ms ± 47.5 µs per loop (mean ± std. dev. of 7 runs, 1000 loops each)\n"
     ]
    }
   ],
   "source": [
    "#how long it takes to run using while loops\n",
    "def latitudes(size):\n",
    "    latitudes = []\n",
    "    x = 0\n",
    "    while x < (size):\n",
    "        random_lat = random.randint(-90, 90) + random.random()\n",
    "        latitudes.append(random_lat)\n",
    "        x += 1\n",
    "    return latitudes\n",
    "# Call the function with 1500.\n",
    "%timeit latitudes(1500)"
   ]
  },
  {
   "cell_type": "code",
   "execution_count": null,
   "id": "e3cb7a21",
   "metadata": {},
   "outputs": [],
   "source": []
  }
 ],
 "metadata": {
  "kernelspec": {
   "display_name": "PythonData",
   "language": "python",
   "name": "pythondata"
  },
  "language_info": {
   "codemirror_mode": {
    "name": "ipython",
    "version": 3
   },
   "file_extension": ".py",
   "mimetype": "text/x-python",
   "name": "python",
   "nbconvert_exporter": "python",
   "pygments_lexer": "ipython3",
   "version": "3.9.13"
  }
 },
 "nbformat": 4,
 "nbformat_minor": 5
}
